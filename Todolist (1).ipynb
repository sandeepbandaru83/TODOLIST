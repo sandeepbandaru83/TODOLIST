{
 "cells": [
  {
   "cell_type": "markdown",
   "id": "dac9a031-922d-44ef-b63a-131f391ae6d9",
   "metadata": {},
   "source": [
    "TO DO LIST"
   ]
  },
  {
   "cell_type": "code",
   "execution_count": 1,
   "id": "d9a26919-9f8a-499c-93aa-cf6c8d1f8b71",
   "metadata": {},
   "outputs": [
    {
     "name": "stdout",
     "output_type": "stream",
     "text": [
      "\n",
      "To-Do List Menu:\n",
      "1. View Tasks\n",
      "2. Add Task\n",
      "3. Mark Task as Done\n",
      "4. Remove Task\n",
      "5. Exit\n"
     ]
    },
    {
     "name": "stdin",
     "output_type": "stream",
     "text": [
      "Choose an option:  2\n",
      "Enter a new task:  writing \n"
     ]
    },
    {
     "name": "stdout",
     "output_type": "stream",
     "text": [
      "Task added.\n",
      "\n",
      "To-Do List Menu:\n",
      "1. View Tasks\n",
      "2. Add Task\n",
      "3. Mark Task as Done\n",
      "4. Remove Task\n",
      "5. Exit\n"
     ]
    },
    {
     "name": "stdin",
     "output_type": "stream",
     "text": [
      "Choose an option:  2\n",
      "Enter a new task:  reading\n"
     ]
    },
    {
     "name": "stdout",
     "output_type": "stream",
     "text": [
      "Task added.\n",
      "\n",
      "To-Do List Menu:\n",
      "1. View Tasks\n",
      "2. Add Task\n",
      "3. Mark Task as Done\n",
      "4. Remove Task\n",
      "5. Exit\n"
     ]
    },
    {
     "name": "stdin",
     "output_type": "stream",
     "text": [
      "Choose an option:  1\n"
     ]
    },
    {
     "name": "stdout",
     "output_type": "stream",
     "text": [
      "\n",
      "Your To-Do List:\n",
      "1. writing \n",
      "2. reading\n",
      "\n",
      "To-Do List Menu:\n",
      "1. View Tasks\n",
      "2. Add Task\n",
      "3. Mark Task as Done\n",
      "4. Remove Task\n",
      "5. Exit\n"
     ]
    },
    {
     "name": "stdin",
     "output_type": "stream",
     "text": [
      "Choose an option:  3\n"
     ]
    },
    {
     "name": "stdout",
     "output_type": "stream",
     "text": [
      "\n",
      "Your To-Do List:\n",
      "1. writing \n",
      "2. reading\n"
     ]
    },
    {
     "name": "stdin",
     "output_type": "stream",
     "text": [
      "Enter task number to mark as done:  reading\n"
     ]
    },
    {
     "name": "stdout",
     "output_type": "stream",
     "text": [
      "Please enter a valid number.\n",
      "\n",
      "To-Do List Menu:\n",
      "1. View Tasks\n",
      "2. Add Task\n",
      "3. Mark Task as Done\n",
      "4. Remove Task\n",
      "5. Exit\n"
     ]
    },
    {
     "name": "stdin",
     "output_type": "stream",
     "text": [
      "Choose an option:  4\n"
     ]
    },
    {
     "name": "stdout",
     "output_type": "stream",
     "text": [
      "\n",
      "Your To-Do List:\n",
      "1. writing \n",
      "2. reading\n"
     ]
    },
    {
     "name": "stdin",
     "output_type": "stream",
     "text": [
      "Enter task number to remove:  reading\n"
     ]
    },
    {
     "name": "stdout",
     "output_type": "stream",
     "text": [
      "Please enter a valid number.\n",
      "\n",
      "To-Do List Menu:\n",
      "1. View Tasks\n",
      "2. Add Task\n",
      "3. Mark Task as Done\n",
      "4. Remove Task\n",
      "5. Exit\n"
     ]
    },
    {
     "name": "stdin",
     "output_type": "stream",
     "text": [
      "Choose an option:  5\n"
     ]
    },
    {
     "name": "stdout",
     "output_type": "stream",
     "text": [
      "Exiting To-Do List. Goodbye!\n"
     ]
    }
   ],
   "source": [
    "import os\n",
    "\n",
    "TODO_FILE = \"todolist.txt\"\n",
    "\n",
    "def load_tasks():\n",
    "    \"\"\"Load tasks from a file\"\"\"\n",
    "    if os.path.exists(TODO_FILE):\n",
    "        with open(TODO_FILE, \"r\") as file:\n",
    "            return [line.strip() for line in file.readlines()]\n",
    "    return []\n",
    "\n",
    "def save_tasks(tasks):\n",
    "    \"\"\"Save tasks to a file\"\"\"\n",
    "    with open(TODO_FILE, \"w\") as file:\n",
    "        for task in tasks:\n",
    "            file.write(task + \"\\n\")\n",
    "\n",
    "def show_tasks(tasks):\n",
    "    \"\"\"Display tasks\"\"\"\n",
    "    if not tasks:\n",
    "        print(\"No pending tasks.\")\n",
    "    else:\n",
    "        print(\"\\nYour To-Do List:\")\n",
    "        for i, task in enumerate(tasks, 1):\n",
    "            print(f\"{i}. {task}\")\n",
    "\n",
    "def add_task(tasks):\n",
    "    \"\"\"Add a new task\"\"\"\n",
    "    task = input(\"Enter a new task: \")\n",
    "    tasks.append(task)\n",
    "    save_tasks(tasks)\n",
    "    print(\"Task added.\")\n",
    "\n",
    "def remove_task(tasks):\n",
    "    \"\"\"Remove a task\"\"\"\n",
    "    show_tasks(tasks)\n",
    "    try:\n",
    "        index = int(input(\"Enter task number to remove: \")) - 1\n",
    "        if 0 <= index < len(tasks):\n",
    "            removed_task = tasks.pop(index)\n",
    "            save_tasks(tasks)\n",
    "            print(f\"Task '{removed_task}' removed.\")\n",
    "        else:\n",
    "            print(\"Invalid task number.\")\n",
    "    except ValueError:\n",
    "        print(\"Please enter a valid number.\")\n",
    "\n",
    "def mark_task_done(tasks):\n",
    "    \"\"\"Mark a task as done\"\"\"\n",
    "    show_tasks(tasks)\n",
    "    try:\n",
    "        index = int(input(\"Enter task number to mark as done: \")) - 1\n",
    "        if 0 <= index < len(tasks):\n",
    "            tasks[index] = \"[Done] \" + tasks[index]\n",
    "            save_tasks(tasks)\n",
    "            print(\"Task marked as done.\")\n",
    "        else:\n",
    "            print(\"Invalid task number.\")\n",
    "    except ValueError:\n",
    "        print(\"Please enter a valid number.\")\n",
    "\n",
    "def main():\n",
    "    \"\"\"Main function to run the To-Do List app\"\"\"\n",
    "    tasks = load_tasks()\n",
    "    \n",
    "    while True:\n",
    "        print(\"\\nTo-Do List Menu:\")\n",
    "        print(\"1. View Tasks\")\n",
    "        print(\"2. Add Task\")\n",
    "        print(\"3. Mark Task as Done\")\n",
    "        print(\"4. Remove Task\")\n",
    "        print(\"5. Exit\")\n",
    "\n",
    "        choice = input(\"Choose an option: \")\n",
    "\n",
    "        if choice == \"1\":\n",
    "            show_tasks(tasks)\n",
    "        elif choice == \"2\":\n",
    "            add_task(tasks)\n",
    "        elif choice == \"3\":\n",
    "            mark_task_done(tasks)\n",
    "        elif choice == \"4\":\n",
    "            remove_task(tasks)\n",
    "        elif choice == \"5\":\n",
    "            print(\"Exiting To-Do List. Goodbye!\")\n",
    "            break\n",
    "        else:\n",
    "            print(\"Invalid choice. Please try again.\")\n",
    "\n",
    "if __name__ == \"__main__\":\n",
    "    main()\n"
   ]
  },
  {
   "cell_type": "code",
   "execution_count": null,
   "id": "dd957917-a1c5-4e3b-91d2-818de89ed51c",
   "metadata": {},
   "outputs": [],
   "source": []
  }
 ],
 "metadata": {
  "kernelspec": {
   "display_name": "Python 3 (ipykernel)",
   "language": "python",
   "name": "python3"
  },
  "language_info": {
   "codemirror_mode": {
    "name": "ipython",
    "version": 3
   },
   "file_extension": ".py",
   "mimetype": "text/x-python",
   "name": "python",
   "nbconvert_exporter": "python",
   "pygments_lexer": "ipython3",
   "version": "3.12.7"
  }
 },
 "nbformat": 4,
 "nbformat_minor": 5
}
